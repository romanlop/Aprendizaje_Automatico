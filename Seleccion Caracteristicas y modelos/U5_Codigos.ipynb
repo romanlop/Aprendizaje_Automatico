{
 "cells": [
  {
   "cell_type": "markdown",
   "metadata": {},
   "source": [
    "# Unidad 4: Ingeniería de características y selección de modelos"
   ]
  },
  {
   "cell_type": "code",
   "execution_count": 1,
   "metadata": {},
   "outputs": [
    {
     "name": "stdout",
     "output_type": "stream",
     "text": [
      "Using matplotlib backend: MacOSX\n",
      "Populating the interactive namespace from numpy and matplotlib\n"
     ]
    }
   ],
   "source": [
    "%pylab\n",
    "%matplotlib inline\n",
    "\n",
    "%config InlineBackend.figure_format = 'retina'"
   ]
  },
  {
   "cell_type": "markdown",
   "metadata": {},
   "source": [
    "## Transformación de variables\n",
    "### Discretización"
   ]
  },
  {
   "cell_type": "code",
   "execution_count": 2,
   "metadata": {},
   "outputs": [
    {
     "name": "stdout",
     "output_type": "stream",
     "text": [
      "([good, good, good, medium, bad, good]\n",
      "Categories (3, object): [good < medium < bad], array([ 0.1905    ,  3.36666667,  6.53333333,  9.7       ]))\n"
     ]
    }
   ],
   "source": [
    "import pandas as pd\n",
    "\n",
    "print(pd.cut(np.array([.2, 1.4, 2.5, 6.2, 9.7, 2.1]), 3,\n",
    "             labels = ['good', 'medium', 'bad'],\n",
    "             retbins = True))"
   ]
  },
  {
   "cell_type": "code",
   "execution_count": 3,
   "metadata": {},
   "outputs": [],
   "source": [
    "def get_WoE(data, var, target):\n",
    "    crosstab = pd.crosstab(data[target], data[var])\n",
    "    \n",
    "    print(\"Obteniendo el Woe para la variable\", var, \":\")\n",
    "    \n",
    "    for col in crosstab.columns:\n",
    "        if crosstab[col][1] == 0:\n",
    "            print(\"  El WoE para\", col, \"[\", sum(crosstab[col]), \"] es infinito\")\n",
    "        else:\n",
    "            WoE = np.log(float(crosstab[col][0]) / float(crosstab[col][1]))\n",
    "            print(\"  El WoE para\", col, \"[\", sum(crosstab[col]), \"] es\", WoE)"
   ]
  },
  {
   "cell_type": "code",
   "execution_count": 4,
   "metadata": {},
   "outputs": [
    {
     "name": "stdout",
     "output_type": "stream",
     "text": [
      "('Obteniendo el Woe para la variable', 'Cat 1', ':')\n",
      "('  El WoE para', False, '[', 3L, '] es', -0.69314718055994529)\n",
      "('  El WoE para', True, '[', 7L, '] es', 0.28768207245178085)\n",
      "('Obteniendo el Woe para la variable', 'Cat 2', ':')\n",
      "('  El WoE para', False, '[', 6L, '] es', -0.69314718055994529)\n",
      "('  El WoE para', True, '[', 4L, '] es', 1.0986122886681098)\n"
     ]
    }
   ],
   "source": [
    "data = pd.DataFrame({'Value': [1, 2, 3, 4, 5, 6, 7, 8, 9, 10],\n",
    "                   'Target': [True, True, False, True, True, False, True, False, False, False]})\n",
    "\n",
    "data['Cat 1'] = data['Value'] > 3\n",
    "data['Cat 2'] = data['Value'] > 6\n",
    "\n",
    "get_WoE(data, 'Cat 1', 'Target')\n",
    "get_WoE(data, 'Cat 2', 'Target')"
   ]
  },
  {
   "cell_type": "markdown",
   "metadata": {},
   "source": [
    "## Normalización"
   ]
  },
  {
   "cell_type": "code",
   "execution_count": 5,
   "metadata": {},
   "outputs": [
    {
     "data": {
      "text/plain": [
       "array([[ 0.83685545],\n",
       "       [ 0.31276416],\n",
       "       [ 1.        ],\n",
       "       [ 0.        ],\n",
       "       [ 0.85629755],\n",
       "       [ 0.92307692],\n",
       "       [ 0.9103973 ],\n",
       "       [ 0.613694  ],\n",
       "       [ 0.83601014],\n",
       "       [ 0.42688081]])"
      ]
     },
     "execution_count": 5,
     "metadata": {},
     "output_type": "execute_result"
    }
   ],
   "source": [
    "from sklearn.preprocessing import MinMaxScaler\n",
    "\n",
    "data = [35.6, -26.4, 54.9, -63.4, 37.9, 45.8, 44.3, 9.2, 35.5, -12.9]\n",
    "data = np.array(data).reshape(-1, 1)\n",
    "\n",
    "scaler = MinMaxScaler().fit(data)\n",
    "scaler.transform(data)"
   ]
  },
  {
   "cell_type": "code",
   "execution_count": 6,
   "metadata": {
    "scrolled": false
   },
   "outputs": [
    {
     "data": {
      "text/plain": [
       "array([[ 0.53347433],\n",
       "       [-1.15836242],\n",
       "       [ 1.06012673],\n",
       "       [-2.16800692],\n",
       "       [ 0.59623601],\n",
       "       [ 0.81180876],\n",
       "       [ 0.77087723],\n",
       "       [-0.18692067],\n",
       "       [ 0.53074556],\n",
       "       [-0.78997861]])"
      ]
     },
     "execution_count": 6,
     "metadata": {},
     "output_type": "execute_result"
    }
   ],
   "source": [
    "from sklearn.preprocessing import StandardScaler\n",
    "\n",
    "scaler = StandardScaler().fit(data)\n",
    "scaler.transform(data)"
   ]
  },
  {
   "cell_type": "code",
   "execution_count": 7,
   "metadata": {},
   "outputs": [
    {
     "data": {
      "text/plain": [
       "array([[  9.98502247e-04],\n",
       "       [ -1.23714428e+00],\n",
       "       [  3.86420369e-01],\n",
       "       [ -1.97603595e+00],\n",
       "       [  4.69296056e-02],\n",
       "       [  2.04692961e-01],\n",
       "       [  1.74737893e-01],\n",
       "       [ -5.26210684e-01],\n",
       "       [ -9.98502247e-04],\n",
       "       [ -9.67548677e-01]])"
      ]
     },
     "execution_count": 7,
     "metadata": {},
     "output_type": "execute_result"
    }
   ],
   "source": [
    "from sklearn.preprocessing import RobustScaler\n",
    "\n",
    "scaler = RobustScaler().fit(data)\n",
    "scaler.transform(data)"
   ]
  },
  {
   "cell_type": "code",
   "execution_count": 8,
   "metadata": {},
   "outputs": [
    {
     "data": {
      "text/plain": [
       "array([[ 1.],\n",
       "       [-1.],\n",
       "       [ 1.],\n",
       "       [-1.],\n",
       "       [ 1.],\n",
       "       [ 1.],\n",
       "       [ 1.],\n",
       "       [ 1.],\n",
       "       [ 1.],\n",
       "       [-1.]])"
      ]
     },
     "execution_count": 8,
     "metadata": {},
     "output_type": "execute_result"
    }
   ],
   "source": [
    "from sklearn.preprocessing import Normalizer\n",
    "\n",
    "scaler = Normalizer().fit(data)\n",
    "scaler.transform(data)"
   ]
  },
  {
   "cell_type": "markdown",
   "metadata": {},
   "source": [
    "## Selección de características\n",
    "### Selección univariante de características"
   ]
  },
  {
   "cell_type": "code",
   "execution_count": 9,
   "metadata": {},
   "outputs": [],
   "source": [
    "wine = pd.read_csv('winequality-white.csv', sep = ';')\n",
    "\n",
    "target = 'quality'\n",
    "features = list(wine.columns)\n",
    "features.remove('quality')\n",
    "\n",
    "x = wine[features]\n",
    "y = wine[target]"
   ]
  },
  {
   "cell_type": "markdown",
   "metadata": {},
   "source": [
    "#### Eliminar variables con baja varianza\n",
    "Esto permite eliminar las variables que no varian suficiente"
   ]
  },
  {
   "cell_type": "code",
   "execution_count": 10,
   "metadata": {},
   "outputs": [
    {
     "name": "stdout",
     "output_type": "stream",
     "text": [
      "('Variables originales ', 11)\n",
      "('Variables finales ', 5)\n",
      "('Listado de variables ', array(['fixed acidity', 'residual sugar', 'free sulfur dioxide',\n",
      "       'total sulfur dioxide', 'alcohol'],\n",
      "      dtype='|S20'))\n"
     ]
    }
   ],
   "source": [
    "from sklearn.feature_selection import VarianceThreshold\n",
    "\n",
    "var_th = VarianceThreshold(threshold = 0.60)\n",
    "x_var = var_th.fit_transform(x)\n",
    "\n",
    "print(\"Variables originales \", x.shape[1])\n",
    "print(\"Variables finales \", x_var.shape[1])\n",
    "\n",
    "print(\"Listado de variables \", np.asarray(list(x))[var_th.get_support()])"
   ]
  },
  {
   "cell_type": "markdown",
   "metadata": {},
   "source": [
    "#### Selección de mejores k "
   ]
  },
  {
   "cell_type": "code",
   "execution_count": 11,
   "metadata": {},
   "outputs": [
    {
     "name": "stdout",
     "output_type": "stream",
     "text": [
      "('Variables finales ', 5)\n",
      "('Listado de variables ', array(['volatile acidity', 'chlorides', 'total sulfur dioxide', 'density',\n",
      "       'alcohol'],\n",
      "      dtype='|S20'))\n"
     ]
    }
   ],
   "source": [
    "from sklearn.feature_selection import SelectKBest\n",
    "from sklearn.feature_selection import f_regression \n",
    "from sklearn.feature_selection import chi2 \n",
    "\n",
    "var_sk = SelectKBest(f_regression, k = 5)\n",
    "x_sk = var_sk.fit_transform(x, y)\n",
    "\n",
    "print(\"Variables finales \", x_sk.shape[1])\n",
    "\n",
    "print(\"Listado de variables \", np.asarray(list(x))[var_sk.get_support()])"
   ]
  },
  {
   "cell_type": "code",
   "execution_count": 12,
   "metadata": {},
   "outputs": [
    {
     "name": "stdout",
     "output_type": "stream",
     "text": [
      "('Variables finales ', 5)\n",
      "('Listado de variables ', array(['volatile acidity', 'chlorides', 'total sulfur dioxide', 'density',\n",
      "       'alcohol'],\n",
      "      dtype='|S20'))\n"
     ]
    }
   ],
   "source": [
    "from sklearn.feature_selection import SelectPercentile\n",
    "from sklearn.feature_selection import f_regression \n",
    "\n",
    "var_sp = SelectPercentile(f_regression, percentile = 50)\n",
    "x_sp = var_sp.fit_transform(x, y)\n",
    "\n",
    "print(\"Variables finales \", x_sp.shape[1])\n",
    "\n",
    "print(\"Listado de variables \", np.asarray(list(x))[var_sp.get_support()])"
   ]
  },
  {
   "cell_type": "markdown",
   "metadata": {},
   "source": [
    "#### IV"
   ]
  },
  {
   "cell_type": "code",
   "execution_count": 13,
   "metadata": {},
   "outputs": [],
   "source": [
    "# Importación de los datos\n",
    "credit_approval = pd.read_csv('crx_data.txt', sep = ',')\n",
    "credit_approval.head()\n",
    "mask = credit_approval.applymap(lambda x: x in ['?'])\n",
    "credit_not_null = credit_approval[-mask.any(axis=1)]\n",
    "\n",
    "# Separación de las variables\n",
    "var_categoricas = ['A1', 'A4', 'A5', 'A6', 'A7', 'A9', 'A10', 'A11', 'A12', 'A13']\n",
    "var_numericas   = ['A2', 'A3', 'A8', 'A14', 'A15']\n",
    "var_target      = credit_not_null['A16'] == '+'"
   ]
  },
  {
   "cell_type": "code",
   "execution_count": 14,
   "metadata": {},
   "outputs": [
    {
     "name": "stdout",
     "output_type": "stream",
     "text": [
      "('La caracter\\xc3\\xadstica', 'A1', 'el IV es', 0.031055783928166401)\n",
      "('La caracter\\xc3\\xadstica', 'A4', 'el IV es', 0.35331272533647212)\n",
      "('La caracter\\xc3\\xadstica', 'A5', 'el IV es', 0.35331272533647212)\n",
      "('La caracter\\xc3\\xadstica', 'A6', 'el IV es', 5.3014914713397445)\n",
      "('La caracter\\xc3\\xadstica', 'A7', 'el IV es', 2.3483934988530426)\n",
      "('La caracter\\xc3\\xadstica', 'A9', 'el IV es', 3.247690741686085)\n",
      "('La caracter\\xc3\\xadstica', 'A10', 'el IV es', 0.89547801334058896)\n",
      "('La caracter\\xc3\\xadstica', 'A11', 'el IV es', 11.056999091606574)\n",
      "('La caracter\\xc3\\xadstica', 'A12', 'el IV es', 0.042392579140414437)\n",
      "('La caracter\\xc3\\xadstica', 'A13', 'el IV es', 0.41147039815275188)\n"
     ]
    }
   ],
   "source": [
    "result_IV = []\n",
    "\n",
    "for v_cat in var_categoricas:\n",
    "    var_target = array(var_target)\n",
    "    var_values = array(credit_not_null[v_cat])\n",
    "    var_levels = unique(var_values)\n",
    "\n",
    "    mat_values = numpy.zeros(shape=(len(var_levels),2))\n",
    "\n",
    "    for i in range(len(var_target)):\n",
    "        # Obtención de la posición en los niveles del valor\n",
    "        for j in range(len(var_levels)):\n",
    "            if var_levels[j] == var_values[i]:\n",
    "                pos = j\n",
    "                break\n",
    "\n",
    "        # Estimación del número valores en cada nivel\n",
    "        if var_target[i]:\n",
    "            mat_values[pos][0] += 1\n",
    "        else:\n",
    "            mat_values[pos][1] += 1\n",
    "\n",
    "        # Obtención del IV\n",
    "        IV = 0\n",
    "        for j in range(len(var_levels)):\n",
    "            if mat_values[j][0] > 0 and mat_values[j][1] > 0:\n",
    "                rt = mat_values[j][0] / (mat_values[j][0] + mat_values[j][1])\n",
    "                rf = mat_values[j][1] / (mat_values[j][0] + mat_values[j][1])\n",
    "                IV += (rt - rf) * np.log(rt / rf)\n",
    "        \n",
    "    # Se agrega el IV al listado\n",
    "    result_IV.append(IV)\n",
    "\n",
    "for i in range(len(var_categoricas)):\n",
    "    print(\"La característica\", var_categoricas[i], \"el IV es\", result_IV[i])"
   ]
  },
  {
   "cell_type": "markdown",
   "metadata": {},
   "source": [
    "### VIF"
   ]
  },
  {
   "cell_type": "code",
   "execution_count": 15,
   "metadata": {},
   "outputs": [],
   "source": [
    "from sklearn.linear_model import LinearRegression\n",
    "\n",
    "def calculateVIF(data):\n",
    "    features = list(data.columns)\n",
    "    num_features = len(features)\n",
    "    \n",
    "    model = LinearRegression()\n",
    "    \n",
    "    result = pd.DataFrame(index = ['VIF'], columns = features)\n",
    "    result = result.fillna(0)\n",
    "    \n",
    "    for ite in range(num_features):\n",
    "        x_features = features[:]\n",
    "        y_featue = features[ite]\n",
    "        x_features.remove(y_featue)\n",
    "        \n",
    "        x = data[x_features]\n",
    "        y = data[y_featue]\n",
    "        \n",
    "        model.fit(data[x_features], data[y_featue])\n",
    "        \n",
    "        result[y_featue] = 1/(1 - model.score(data[x_features], data[y_featue]))\n",
    "    \n",
    "    return result"
   ]
  },
  {
   "cell_type": "code",
   "execution_count": 16,
   "metadata": {},
   "outputs": [],
   "source": [
    "def selectDataUsingVIF(data, max_VIF = 5):\n",
    "    result = data.copy(deep = True)\n",
    "    \n",
    "    VIF = calculateVIF(result)\n",
    "    \n",
    "    while VIF.as_matrix().max() > max_VIF:\n",
    "        col_max = np.where(VIF == VIF.as_matrix().max())[1][0]\n",
    "        features = list(result.columns)\n",
    "        features.remove(features[col_max])\n",
    "        result = result[features]\n",
    "        \n",
    "        VIF = calculateVIF(result)\n",
    "        \n",
    "    return result"
   ]
  },
  {
   "cell_type": "code",
   "execution_count": 17,
   "metadata": {},
   "outputs": [
    {
     "data": {
      "text/html": [
       "<div>\n",
       "<style>\n",
       "    .dataframe thead tr:only-child th {\n",
       "        text-align: right;\n",
       "    }\n",
       "\n",
       "    .dataframe thead th {\n",
       "        text-align: left;\n",
       "    }\n",
       "\n",
       "    .dataframe tbody tr th {\n",
       "        vertical-align: top;\n",
       "    }\n",
       "</style>\n",
       "<table border=\"1\" class=\"dataframe\">\n",
       "  <thead>\n",
       "    <tr style=\"text-align: right;\">\n",
       "      <th></th>\n",
       "      <th>fixed acidity</th>\n",
       "      <th>volatile acidity</th>\n",
       "      <th>citric acid</th>\n",
       "      <th>residual sugar</th>\n",
       "      <th>chlorides</th>\n",
       "      <th>free sulfur dioxide</th>\n",
       "      <th>total sulfur dioxide</th>\n",
       "      <th>density</th>\n",
       "      <th>pH</th>\n",
       "      <th>sulphates</th>\n",
       "      <th>alcohol</th>\n",
       "    </tr>\n",
       "  </thead>\n",
       "  <tbody>\n",
       "    <tr>\n",
       "      <th>VIF</th>\n",
       "      <td>2.691435</td>\n",
       "      <td>1.141156</td>\n",
       "      <td>1.165215</td>\n",
       "      <td>12.644064</td>\n",
       "      <td>1.236822</td>\n",
       "      <td>1.78788</td>\n",
       "      <td>2.239233</td>\n",
       "      <td>28.232546</td>\n",
       "      <td>2.196362</td>\n",
       "      <td>1.13854</td>\n",
       "      <td>7.706957</td>\n",
       "    </tr>\n",
       "  </tbody>\n",
       "</table>\n",
       "</div>"
      ],
      "text/plain": [
       "     fixed acidity  volatile acidity  citric acid  residual sugar  chlorides  \\\n",
       "VIF       2.691435          1.141156     1.165215       12.644064   1.236822   \n",
       "\n",
       "     free sulfur dioxide  total sulfur dioxide    density        pH  \\\n",
       "VIF              1.78788              2.239233  28.232546  2.196362   \n",
       "\n",
       "     sulphates   alcohol  \n",
       "VIF    1.13854  7.706957  "
      ]
     },
     "execution_count": 17,
     "metadata": {},
     "output_type": "execute_result"
    }
   ],
   "source": [
    "calculateVIF(x.copy(deep = True))"
   ]
  },
  {
   "cell_type": "code",
   "execution_count": 18,
   "metadata": {},
   "outputs": [
    {
     "data": {
      "text/html": [
       "<div>\n",
       "<style>\n",
       "    .dataframe thead tr:only-child th {\n",
       "        text-align: right;\n",
       "    }\n",
       "\n",
       "    .dataframe thead th {\n",
       "        text-align: left;\n",
       "    }\n",
       "\n",
       "    .dataframe tbody tr th {\n",
       "        vertical-align: top;\n",
       "    }\n",
       "</style>\n",
       "<table border=\"1\" class=\"dataframe\">\n",
       "  <thead>\n",
       "    <tr style=\"text-align: right;\">\n",
       "      <th></th>\n",
       "      <th>fixed acidity</th>\n",
       "      <th>volatile acidity</th>\n",
       "      <th>citric acid</th>\n",
       "      <th>residual sugar</th>\n",
       "      <th>chlorides</th>\n",
       "      <th>free sulfur dioxide</th>\n",
       "      <th>total sulfur dioxide</th>\n",
       "      <th>pH</th>\n",
       "      <th>sulphates</th>\n",
       "      <th>alcohol</th>\n",
       "    </tr>\n",
       "  </thead>\n",
       "  <tbody>\n",
       "    <tr>\n",
       "      <th>VIF</th>\n",
       "      <td>1.356128</td>\n",
       "      <td>1.128298</td>\n",
       "      <td>1.159884</td>\n",
       "      <td>1.435215</td>\n",
       "      <td>1.203645</td>\n",
       "      <td>1.744627</td>\n",
       "      <td>2.15317</td>\n",
       "      <td>1.330912</td>\n",
       "      <td>1.056637</td>\n",
       "      <td>1.647117</td>\n",
       "    </tr>\n",
       "  </tbody>\n",
       "</table>\n",
       "</div>"
      ],
      "text/plain": [
       "     fixed acidity  volatile acidity  citric acid  residual sugar  chlorides  \\\n",
       "VIF       1.356128          1.128298     1.159884        1.435215   1.203645   \n",
       "\n",
       "     free sulfur dioxide  total sulfur dioxide        pH  sulphates   alcohol  \n",
       "VIF             1.744627               2.15317  1.330912   1.056637  1.647117  "
      ]
     },
     "execution_count": 18,
     "metadata": {},
     "output_type": "execute_result"
    }
   ],
   "source": [
    "calculateVIF(selectDataUsingVIF(x))"
   ]
  },
  {
   "cell_type": "markdown",
   "metadata": {},
   "source": [
    "### Stepwise"
   ]
  },
  {
   "cell_type": "code",
   "execution_count": 19,
   "metadata": {
    "scrolled": true
   },
   "outputs": [
    {
     "name": "stdout",
     "output_type": "stream",
     "text": [
      "('En el paso', 0, 'se ha insertado la variable', 'alcohol', 'con un error', 0.79712846287538885)\n",
      "('En el paso', 1, 'se ha insertado la variable', 'volatile acidity', 'con un error', 0.77188556280109899)\n",
      "('En el paso', 2, 'se ha insertado la variable', 'residual sugar', 'con un error', 0.76253556339820816)\n",
      "('En el paso', 3, 'se ha insertado la variable', 'free sulfur dioxide', 'con un error', 0.75971866818117995)\n",
      "('En el paso', 4, 'se ha insertado la variable', 'density', 'con un error', 0.75715581493437401)\n",
      "('En el paso', 5, 'se ha insertado la variable', 'pH', 'con un error', 0.75392238204165596)\n",
      "('En el paso', 6, 'se ha insertado la variable', 'sulphates', 'con un error', 0.75135013008608609)\n",
      "('En el paso', 7, 'se ha insertado la variable', 'fixed acidity', 'con un error', 0.75049777618704394)\n",
      "('En el paso', 8, 'se ha insertado la variable', 'total sulfur dioxide', 'con un error', 0.75045421629527076)\n",
      "('En el paso', 9, 'se ha insertado la variable', 'chlorides', 'con un error', 0.75044000106930586)\n",
      "('En el paso', 10, 'se ha insertado la variable', 'citric acid', 'con un error', 0.75043591531099874)\n"
     ]
    }
   ],
   "source": [
    "from sklearn.linear_model import LinearRegression\n",
    "\n",
    "# Modelo para realizar los ajustes\n",
    "model = LinearRegression()\n",
    "\n",
    "# Variable para almecena los índices de la lista de atributos usados\n",
    "feature_order =  []\n",
    "feature_error = []\n",
    "\n",
    "# Iteración sobre todas las variables\n",
    "for i in range(len(features)):\n",
    "    idx_try = [val for val in range(len(features)) if val not in feature_order]\n",
    "    iter_error = []\n",
    "\n",
    "    for i_try in idx_try:\n",
    "        useRow = feature_order[:]\n",
    "        useRow.append(i_try)\n",
    "\n",
    "        use = x[x.columns[useRow]]\n",
    "\n",
    "        model.fit(use, y)\n",
    "        rmsError = numpy.linalg.norm((y - model.predict(use)), 2)/sqrt(len(y))\n",
    "        iter_error.append(rmsError)\n",
    "\n",
    "    pos_best = numpy.argmin(iter_error)\n",
    "    feature_order.append(idx_try[pos_best])\n",
    "    feature_error.append(iter_error[pos_best])\n",
    "\n",
    "for i in range(len(features)):\n",
    "    print(\"En el paso\", i, \"se ha insertado la variable\", \n",
    "        features[feature_order[i]], \"con un error\", feature_error[i])"
   ]
  },
  {
   "cell_type": "code",
   "execution_count": 20,
   "metadata": {},
   "outputs": [
    {
     "data": {
      "text/plain": [
       "Text(0,0.5,u'Error (RMS)')"
      ]
     },
     "execution_count": 20,
     "metadata": {},
     "output_type": "execute_result"
    },
    {
     "data": {
      "image/png": "[encoded data removed]",
      "text/plain": [
       "<matplotlib.figure.Figure at 0x1a108a8b90>"
      ]
     },
     "metadata": {
      "image/png": {
       "height": 263,
       "width": 393
      }
     },
     "output_type": "display_data"
    }
   ],
   "source": [
    "plot(range(len(features)), feature_error, 'r-', label = 'Datos')\n",
    "\n",
    "xlabel('Numero de atributos')\n",
    "ylabel('Error (RMS)')"
   ]
  },
  {
   "cell_type": "markdown",
   "metadata": {},
   "source": [
    "### Ridge Regression"
   ]
  },
  {
   "cell_type": "code",
   "execution_count": 21,
   "metadata": {},
   "outputs": [
    {
     "name": "stdout",
     "output_type": "stream",
     "text": [
      "[-0.         -0.          0.          0.00702328 -0.          0.00808195\n",
      " -0.0027108  -0.          0.          0.          0.24638052]\n"
     ]
    }
   ],
   "source": [
    "from sklearn.linear_model import Lasso\n",
    "\n",
    "model_ridge = Lasso(alpha = 0.1)\n",
    "model_ridge.fit(x, y)\n",
    "\n",
    "print(model_ridge.coef_)"
   ]
  },
  {
   "cell_type": "markdown",
   "metadata": {
    "collapsed": true
   },
   "source": [
    "## Selección de modelos"
   ]
  },
  {
   "cell_type": "code",
   "execution_count": 22,
   "metadata": {},
   "outputs": [
    {
     "name": "stdout",
     "output_type": "stream",
     "text": [
      "('El mejor parametro es', {'alpha': 0.001})\n",
      "('El mejor score es', 0.24365702502061351)\n"
     ]
    }
   ],
   "source": [
    "from sklearn.model_selection import GridSearchCV\n",
    "\n",
    "# Listado de alphas para ser evaluados\n",
    "alphas = np.array([1, 0.1, 0.01, 0.001, 0.0001])\n",
    "\n",
    "# Creación del modelo\n",
    "model = Lasso()\n",
    "\n",
    "# Selección del modelo\n",
    "grid = GridSearchCV(estimator = model,\n",
    "                    param_grid = dict(alpha = alphas),\n",
    "                    cv = 10)\n",
    "grid.fit(x, y)\n",
    "\n",
    "# Los mejores parametros para el modelo\n",
    "print('El mejor parametro es', grid.best_params_)\n",
    "print('El mejor score es', grid.best_score_)"
   ]
  },
  {
   "cell_type": "code",
   "execution_count": 23,
   "metadata": {},
   "outputs": [
    {
     "name": "stderr",
     "output_type": "stream",
     "text": [
      "/Users/daniel/anaconda3/envs/python2/lib/python2.7/site-packages/sklearn/linear_model/coordinate_descent.py:491: ConvergenceWarning: Objective did not converge. You might want to increase the number of iterations. Fitting data with very small alpha may cause precision problems.\n",
      "  ConvergenceWarning)\n"
     ]
    },
    {
     "name": "stdout",
     "output_type": "stream",
     "text": [
      "('El mejor parametro es', {'alpha': 0.001, 'fit_intercept': True})\n",
      "('El mejor score es', 0.24365702502061357)\n"
     ]
    }
   ],
   "source": [
    "fit_intercept = np.array([True, False])\n",
    "\n",
    "# Selección del modelo\n",
    "grid = GridSearchCV(estimator = model,\n",
    "                    param_grid = dict(alpha = alphas,\n",
    "                                      fit_intercept = fit_intercept),\n",
    "                    cv = 10)\n",
    "grid.fit(x, y)\n",
    "\n",
    "# Los mejores parametros para el modelo\n",
    "print('El mejor parametro es', grid.best_params_)\n",
    "print('El mejor score es', grid.best_score_)"
   ]
  },
  {
   "cell_type": "code",
   "execution_count": 24,
   "metadata": {},
   "outputs": [
    {
     "name": "stdout",
     "output_type": "stream",
     "text": [
      "('El mejor parametro es', {'alpha': 0.00011437481734488664})\n",
      "('El mejor score es', 0.24362091713465722)\n"
     ]
    }
   ],
   "source": [
    "from scipy.stats import uniform as sp_rand\n",
    "from sklearn.model_selection import RandomizedSearchCV\n",
    "\n",
    "param_grid = dict(alpha = sp_rand())\n",
    "\n",
    "rsearch = RandomizedSearchCV(estimator = model,\n",
    "                             param_distributions = param_grid,\n",
    "                             n_iter = 100,\n",
    "                             cv = 10,\n",
    "                             random_state = 1)\n",
    "rsearch.fit(x, y)\n",
    "\n",
    "# Los mejores parametros para el modelo\n",
    "print('El mejor parametro es', rsearch.best_params_)\n",
    "print('El mejor score es', rsearch.best_score_)"
   ]
  }
 ],
 "metadata": {
  "kernelspec": {
   "display_name": "Python 3",
   "language": "python",
   "name": "python3"
  },
  "language_info": {
   "codemirror_mode": {
    "name": "ipython",
    "version": 3
   },
   "file_extension": ".py",
   "mimetype": "text/x-python",
   "name": "python",
   "nbconvert_exporter": "python",
   "pygments_lexer": "ipython3",
   "version": "3.6.5"
  }
 },
 "nbformat": 4,
 "nbformat_minor": 2
}
