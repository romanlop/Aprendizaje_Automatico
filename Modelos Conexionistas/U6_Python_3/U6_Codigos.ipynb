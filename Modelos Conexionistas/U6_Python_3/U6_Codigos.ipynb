{
 "cells": [
  {
   "cell_type": "markdown",
   "metadata": {},
   "source": [
    "# Unidad 5: Modelos conexionistas"
   ]
  },
  {
   "cell_type": "code",
   "execution_count": 1,
   "metadata": {},
   "outputs": [
    {
     "name": "stdout",
     "output_type": "stream",
     "text": [
      "Using matplotlib backend: MacOSX\n",
      "Populating the interactive namespace from numpy and matplotlib\n"
     ]
    }
   ],
   "source": [
    "%pylab\n",
    "%matplotlib inline\n",
    "\n",
    "%config InlineBackend.figure_format = 'retina'"
   ]
  },
  {
   "cell_type": "markdown",
   "metadata": {
    "collapsed": true
   },
   "source": [
    "# Modelos conexionistas\n",
    "## Introducción a Theano"
   ]
  },
  {
   "cell_type": "code",
   "execution_count": 2,
   "metadata": {},
   "outputs": [],
   "source": [
    "import theano\n",
    "import theano.tensor as T"
   ]
  },
  {
   "cell_type": "markdown",
   "metadata": {},
   "source": [
    "Operaciones básicas con variables en Theano"
   ]
  },
  {
   "cell_type": "code",
   "execution_count": 3,
   "metadata": {},
   "outputs": [
    {
     "data": {
      "text/plain": [
       "array(4.)"
      ]
     },
     "execution_count": 3,
     "metadata": {},
     "output_type": "execute_result"
    }
   ],
   "source": [
    "x = T.scalar('x')\n",
    "y = x ** 2\n",
    "\n",
    "y.eval({x : 2})"
   ]
  },
  {
   "cell_type": "markdown",
   "metadata": {},
   "source": [
    "También es posible realizar operaciones más complejas"
   ]
  },
  {
   "cell_type": "code",
   "execution_count": 4,
   "metadata": {},
   "outputs": [
    {
     "data": {
      "text/plain": [
       "array(32.0)"
      ]
     },
     "execution_count": 4,
     "metadata": {},
     "output_type": "execute_result"
    }
   ],
   "source": [
    "x = T.scalar('x')\n",
    "y = T.scalar('y')\n",
    "z = 2 * x + 3 * y\n",
    "\n",
    "z.eval({x: 1, y : 10})"
   ]
  },
  {
   "cell_type": "markdown",
   "metadata": {},
   "source": [
    "Evaluación mediante funciones "
   ]
  },
  {
   "cell_type": "code",
   "execution_count": 5,
   "metadata": {},
   "outputs": [
    {
     "data": {
      "text/plain": [
       "array(8.0)"
      ]
     },
     "execution_count": 5,
     "metadata": {},
     "output_type": "execute_result"
    }
   ],
   "source": [
    "f = theano.function(inputs=[x, y], outputs = z)\n",
    "f(1, 2)"
   ]
  },
  {
   "cell_type": "code",
   "execution_count": 6,
   "metadata": {},
   "outputs": [
    {
     "data": {
      "text/plain": [
       "array(3.0)"
      ]
     },
     "execution_count": 6,
     "metadata": {},
     "output_type": "execute_result"
    }
   ],
   "source": [
    "x = T.scalar('x')\n",
    "y = T.scalar('y')\n",
    "\n",
    "def sum_vars(x, y):\n",
    "    return x + y\n",
    "\n",
    "z = sum_vars(x, y)\n",
    "\n",
    "f = theano.function(inputs = [x, y], outputs = z)\n",
    "f(1, 2)"
   ]
  },
  {
   "cell_type": "code",
   "execution_count": 7,
   "metadata": {},
   "outputs": [
    {
     "data": {
      "text/plain": [
       "array(1.0)"
      ]
     },
     "execution_count": 7,
     "metadata": {},
     "output_type": "execute_result"
    }
   ],
   "source": [
    "x = T.scalar('x')\n",
    "y = cos(x)\n",
    "\n",
    "f = theano.function(inputs = [x], outputs = y)\n",
    "\n",
    "f(0)"
   ]
  },
  {
   "cell_type": "code",
   "execution_count": 8,
   "metadata": {},
   "outputs": [
    {
     "name": "stdout",
     "output_type": "stream",
     "text": [
      "abs(3) =  3.0\n",
      "abs(-3) =  3.0\n"
     ]
    }
   ],
   "source": [
    "x = T.scalar('x')\n",
    "\n",
    "y = T.switch(T.gt(x, 0), x, -x)\n",
    "\n",
    "f = theano.function(inputs = [x], outputs = y)\n",
    "\n",
    "print(\"abs(3) = \", f(3))\n",
    "print(\"abs(-3) = \", f(-3))"
   ]
  },
  {
   "cell_type": "code",
   "execution_count": 9,
   "metadata": {},
   "outputs": [
    {
     "name": "stdout",
     "output_type": "stream",
     "text": [
      "El tiempo utilizando switch es 0.628769\n",
      "El tiempo utilizando switch es 0.281250\n"
     ]
    }
   ],
   "source": [
    "import time\n",
    "from theano.ifelse import ifelse\n",
    "\n",
    "a, b = T.scalars('a', 'b')\n",
    "x, y = T.matrices('x', 'y')\n",
    "\n",
    "z_switch = T.switch(T.lt(a, b), T.mean(x), T.mean(y))\n",
    "z_ifelse = ifelse(T.lt(a, b), T.mean(x), T.mean(y))\n",
    "\n",
    "f_switch = theano.function([a, b, x, y], z_switch)\n",
    "f_ifelse = theano.function([a, b, x, y], z_ifelse)\n",
    "\n",
    "val1 = 0.\n",
    "val2 = 1.\n",
    "big_mat = numpy.ones((15000, 15000))\n",
    "\n",
    "tic = time.clock()\n",
    "f_switch(val1, val2, big_mat, big_mat)\n",
    "print('El tiempo utilizando switch es %f' % (time.clock() - tic))\n",
    "\n",
    "tic = time.clock()\n",
    "f_ifelse(val1, val2, big_mat, big_mat)\n",
    "print('El tiempo utilizando if else es %f' % (time.clock() - tic))"
   ]
  },
  {
   "cell_type": "code",
   "execution_count": 10,
   "metadata": {},
   "outputs": [
    {
     "name": "stdout",
     "output_type": "stream",
     "text": [
      "30.0\n",
      "20.0\n"
     ]
    }
   ],
   "source": [
    "x = T.scalar('x')\n",
    "y = T.scalar('y')\n",
    "\n",
    "z  = x * y\n",
    "\n",
    "f = theano.function(inputs = [x, theano.In(y, value = 3)], outputs= z)\n",
    "\n",
    "print(f(10))\n",
    "print(f(10, 2))"
   ]
  },
  {
   "cell_type": "code",
   "execution_count": 11,
   "metadata": {},
   "outputs": [
    {
     "name": "stdout",
     "output_type": "stream",
     "text": [
      "1.0\n",
      "0.0\n"
     ]
    }
   ],
   "source": [
    "x = theano.shared(np.array(1, dtype = theano.config.floatX))\n",
    "A = T.scalar()\n",
    "f = theano.function(inputs = [A], outputs = x, updates = {x: x - A})\n",
    "\n",
    "print(f(np.array(1)))\n",
    "print(x.get_value())"
   ]
  },
  {
   "cell_type": "code",
   "execution_count": 12,
   "metadata": {},
   "outputs": [
    {
     "name": "stdout",
     "output_type": "stream",
     "text": [
      "[[ 1.  2.]\n",
      " [ 3.  4.]]\n",
      "[[ 0.  1.]\n",
      " [ 2.  3.]]\n"
     ]
    }
   ],
   "source": [
    "x = theano.shared(np.array([[1, 2], [3, 4]], dtype = theano.config.floatX))\n",
    "A = T.matrix()\n",
    "f = theano.function(inputs = [A], outputs = x, updates = {x: x - A})\n",
    "\n",
    "print(f(np.array([[1, 1], [1, 1]])))\n",
    "print(x.get_value())"
   ]
  },
  {
   "cell_type": "code",
   "execution_count": 13,
   "metadata": {},
   "outputs": [
    {
     "data": {
      "text/plain": [
       "array([  7.,  12.])"
      ]
     },
     "execution_count": 13,
     "metadata": {},
     "output_type": "execute_result"
    }
   ],
   "source": [
    "W = T.matrix('W')\n",
    "v = T.vector('v')\n",
    "b = T.vector('biases')\n",
    "\n",
    "x = T.dot(v, W) + b\n",
    "\n",
    "f = theano.function(inputs = [v, W, b], outputs = x)\n",
    "\n",
    "f([1,1], [[2,4],[3,5]], [2, 3])"
   ]
  },
  {
   "cell_type": "code",
   "execution_count": 14,
   "metadata": {},
   "outputs": [
    {
     "data": {
      "text/plain": [
       "array(20.0)"
      ]
     },
     "execution_count": 14,
     "metadata": {},
     "output_type": "execute_result"
    }
   ],
   "source": [
    "x = T.scalar()\n",
    "y = x**2\n",
    "\n",
    "# y_grad = dy/dx\n",
    "y_grad = T.grad(y, x)\n",
    "\n",
    "# dy/dx = 2 * x\n",
    "y_grad.eval({x: 10})"
   ]
  },
  {
   "cell_type": "markdown",
   "metadata": {},
   "source": [
    "Uso de Theano para la estimación de una regresión.\n",
    "\n",
    "En Theano se puede utilizar el gradiente para implementar una función de coste y realizar una estimación lineal."
   ]
  },
  {
   "cell_type": "code",
   "execution_count": 15,
   "metadata": {},
   "outputs": [
    {
     "name": "stdout",
     "output_type": "stream",
     "text": [
      "En el paso 0 el valor de w es -0.8755990507084165 y c es 9.743929526485037 con un coste 10.211863536721319\n",
      "En el paso 1 el valor de w es 0.3011340183135095 y c es 10.48354962022911 con un coste 1.438559022181478\n",
      "En el paso 2 el valor de w es 1.1014606312263484 y c es 10.325663825694027 con un coste 0.2811017080731912\n",
      "En el paso 3 el valor de w es 1.5320001511248693 y c es 10.178338633265097 con un coste 0.05530743679964585\n",
      "En el paso 4 el valor de w es 1.7528699881811411 y c es 10.095313793986623 con un coste 0.008388140594711362\n",
      "En el paso 5 el valor de w es 1.8648958969673224 y c es 10.052271460924619 con un coste 0.0003892295468112534\n",
      "En el paso 6 el valor de w es 1.9215553787206967 y c es 10.030383930465012 con un coste 0.0002719821484806803\n",
      "En el paso 7 el valor de w es 1.9501918072473574 y c es 10.019306718491812 con un coste 0.0012098384360926134\n",
      "En el paso 8 el valor de w es 1.9646624475688674 y c es 10.013707248610137 con un coste 0.0019380715817665533\n",
      "En el paso 9 el valor de w es 1.9719744646323596 y c es 10.010877593843075 con un coste 0.002370975313173729\n",
      "En el paso 10 el valor de w es 1.975669186517596 y c es 10.00944775419353 con un coste 0.0026062979362240215\n",
      "En el paso 11 el valor de w es 1.9775361038179273 y c es 10.008725262250664 con un coste 0.002729438030782394\n",
      "En el paso 12 el valor de w es 1.978479443488111 y c es 10.008360191855504 con un coste 0.002792740693404027\n",
      "En el paso 13 el valor de w es 1.9789561060450764 y c es 10.008175724422458 con un coste 0.0028250030361275094\n",
      "En el paso 14 el valor de w es 1.9791969600981414 y c es 10.008082514389342 con un coste 0.00284137542162381\n"
     ]
    }
   ],
   "source": [
    "trX = np.linspace(-1, 1, 101)\n",
    "trY = 2 * trX + np.random.randn(*trX.shape) * 0.50 + 10\n",
    "\n",
    "X = T.scalar()\n",
    "Y = T.scalar()\n",
    "\n",
    "def model(X, w, c):\n",
    "    return X * w + c\n",
    "\n",
    "w = theano.shared(np.asarray(0., dtype = theano.config.floatX))\n",
    "c = theano.shared(np.asarray(0., dtype = theano.config.floatX))\n",
    "y = model(X, w, c)\n",
    "\n",
    "cost     = T.mean(T.sqr(y - Y))\n",
    "gradient_w = T.grad(cost = cost, wrt = w)\n",
    "gradient_c = T.grad(cost = cost, wrt = c)\n",
    "updates  = [[w, w - gradient_w * 0.01], [c, c - gradient_c * 0.01]]\n",
    "\n",
    "train = theano.function(inputs = [X, Y], outputs = cost, updates = updates)\n",
    "\n",
    "for i in range(15):\n",
    "    for x, y in zip(trX, trY):\n",
    "        cost_i = train(x, y)\n",
    "    print('En el paso', i, 'el valor de w es', w.get_value(),\n",
    "           'y c es', c.get_value(), 'con un coste', cost_i)"
   ]
  },
  {
   "cell_type": "markdown",
   "metadata": {},
   "source": [
    "## Implementación de un perceptrón con Theano"
   ]
  },
  {
   "cell_type": "markdown",
   "metadata": {
    "collapsed": true
   },
   "source": [
    "En primer lugar vamos a definir una red neuronal que toma las entradas y utiliza los pesos para determinar la salida. Inicialmente definidos una neurona que calcula la salida `a`. La representación se puede observar en la siguiente figura\n",
    "\n",
    "![Modelo red neuronal](U5_Modelo.001.png)\n",
    "\n",
    "donde el vector $x$ es $[x_1, x_2]$ y $w$ es$[w_1, w_2]$."
   ]
  },
  {
   "cell_type": "code",
   "execution_count": 16,
   "metadata": {},
   "outputs": [
    {
     "name": "stdout",
     "output_type": "stream",
     "text": [
      "El resultado para [0, 0] es 0\n",
      "El resultado para [0, 1] es 0\n",
      "El resultado para [1, 0] es 0\n",
      "El resultado para [1, 1] es 1\n"
     ]
    }
   ],
   "source": [
    "# Definición de las variables simbólicas\n",
    "x = T.vector('x')\n",
    "\n",
    "# Definición de las variables compartidas\n",
    "w = theano.shared(np.array([1, 1], dtype = theano.config.floatX))\n",
    "b = theano.shared(-1.5)\n",
    "\n",
    "# Definición de la neurona\n",
    "z = T.dot(x, w) + b\n",
    "a = T.switch(T.lt(z, 0), 0, 1)\n",
    "\n",
    "# Conjunto de datos\n",
    "inputs = [[0, 0], [0, 1], [1, 0], [1, 1]]\n",
    "\n",
    "# Creación de la función\n",
    "neuron = theano.function([x], a)\n",
    "\n",
    "# Iteramos sobre todas las entradas\n",
    "for i in range(len(inputs)):\n",
    "    t = inputs[i]\n",
    "    out = neuron(t)\n",
    "    print('El resultado para [%d, %d] es %d' % (t[0], t[1], out))"
   ]
  },
  {
   "cell_type": "markdown",
   "metadata": {},
   "source": [
    "Se puede observar que los resultados son los mismos en ambos casos.\n",
    "\n",
    "# Propagación hacia atrás\n",
    "Ahora es necesario modificar el código anterior para introducir la función de error y entrenar la red neuronal."
   ]
  },
  {
   "cell_type": "code",
   "execution_count": 17,
   "metadata": {},
   "outputs": [],
   "source": [
    "# Definición de las variables simbólicas\n",
    "x = T.matrix('x')\n",
    "w = theano.shared(np.array([1, 1], dtype = theano.config.floatX))\n",
    "b = theano.shared(1.0)\n",
    "learning_rate = 0.01\n",
    "\n",
    "# Definición de la neurona\n",
    "z = T.dot(x, w) + b\n",
    "a = 1 / (1 + T.exp(-z))\n",
    "\n",
    "# Definición de la función de coste\n",
    "a_hat = T.vector('a_hat')\n",
    "cost = -(a_hat * T.log(a) + (1 - a_hat) * T.log(1 - a)).sum()\n",
    "\n",
    "# Gradiente de la función de coste\n",
    "dw, db = T.grad(cost, [w, b])\n",
    "\n",
    "train = theano.function(\n",
    "    inputs = [x, a_hat],\n",
    "    outputs = [a, cost],\n",
    "    updates = [[w, w - learning_rate * dw], [b, b - learning_rate * db]])"
   ]
  },
  {
   "cell_type": "markdown",
   "metadata": {},
   "source": [
    "En este caso se han introducido unos cambios respecto a la implementación anterior. En primer lugar, se ha definido `x` como una matriz en lugar de un vector. Esto es para tener un enfoque vectorizado en donde se determinan todos los resultados de forma conjunta y se puede obtener los costes necesarios para implementar los gradientes. Por otro lado, se ha cambiado la forma de la neurona, `a`, de una función escalón a una función logística.\n",
    "\n",
    "También se ha de tener en cuenta que se va a utilizar el gradiente descendiente para obtener los pesos por lotes, es decir, usaremos todas las observaciones de entrenamiento para actualizar los pesos."
   ]
  },
  {
   "cell_type": "code",
   "execution_count": 18,
   "metadata": {},
   "outputs": [
    {
     "name": "stdout",
     "output_type": "stream",
     "text": [
      "Los resultados de la red son:\n",
      "El resultado para [0, 0] es 0.00\n",
      "El resultado para [0, 1] es 0.05\n",
      "El resultado para [1, 0] es 0.05\n",
      "El resultado para [1, 1] es 0.93\n",
      "El vector w es [5.58, 5.58]\n",
      "El valor del bias es -8.55\n"
     ]
    },
    {
     "data": {
      "text/plain": [
       "[<matplotlib.lines.Line2D at 0x1c1c49d358>]"
      ]
     },
     "execution_count": 18,
     "metadata": {},
     "output_type": "execute_result"
    },
    {
     "data": {
      "image/png": "[encoded data removed]",
      "text/plain": [
       "<matplotlib.figure.Figure at 0x1c8aedcc50>"
      ]
     },
     "metadata": {
      "image/png": {
       "height": 250,
       "width": 364
      }
     },
     "output_type": "display_data"
    }
   ],
   "source": [
    "# Conjunto de datos de entrenamiento\n",
    "inputs = [[0, 0], [0, 1], [1, 0], [1, 1]]\n",
    "outputs = [0,0,0,1]\n",
    "\n",
    "# Iteramos sobre el conjunto de entrenamiento \n",
    "cost = []\n",
    "for iteration in range(10000):\n",
    "    pred, cost_iter = train(inputs, outputs)\n",
    "    cost.append(cost_iter)\n",
    "    \n",
    "# Se imprimen los resultados por pantalla\n",
    "print('Los resultados de la red son:')\n",
    "for i in range(len(inputs)):\n",
    "    print('El resultado para [%d, %d] es %.2f' % (inputs[i][0], inputs[i][1], pred[i]))\n",
    "    \n",
    "# Resultados\n",
    "print\n",
    "print('El vector w es [%.2f, %.2f]' % (w.get_value()[0], w.get_value()[0]))\n",
    "print('El valor del bias es %.2f' % b.get_value())\n",
    "\n",
    "# Función de esfuerzo en función del número de iteraciones\n",
    "plt.plot(cost)"
   ]
  },
  {
   "cell_type": "markdown",
   "metadata": {},
   "source": [
    "En este ejemplo se puede ver como tras el entrenamiento la red neuronal puede reproducir los resultados deseados.\n",
    "\n",
    "## Red neuronal con dos capas\n",
    "Ahora vamos a implementar una red neuronal con dos capas. En la primera capa vamos a utilizar dos neuronas y en la segunda tres. Con esta red neuronal se va a entrenar para poder reproducir una función `XNOR` los siguientes resultados:\n",
    "\n",
    "X1 | X2 | out\n",
    "-- | -- | --\n",
    "0 | 0 | 1\n",
    "0 | 1 | 0\n",
    "1 | 0 | 0\n",
    "1 | 1 | 1\n",
    "\n",
    "Una representación de esta red neuronal se puede observar en la siguiente figura\n",
    "\n",
    "![Modelo red neuronal](U5_Modelo.002.png)\n",
    "\n",
    "donde el vector $x$ es $[x_1, x_2]$, $w_1$ es$[w_{11}, w_{12}]$, $w_2$ es$[w_{21}, w_{22}]$ y $w_3$ es$[w_{31}, w_{32}]$.\n",
    "\n",
    "En primer lugar se definen las variables"
   ]
  },
  {
   "cell_type": "code",
   "execution_count": 19,
   "metadata": {},
   "outputs": [],
   "source": [
    "x = T.matrix('x')\n",
    "w1 = theano.shared(np.array([.1, .2], dtype = theano.config.floatX))\n",
    "w2 = theano.shared(np.array([.3, .4], dtype = theano.config.floatX))\n",
    "w3 = theano.shared(np.array([.5, .6], dtype = theano.config.floatX))\n",
    "b1 = theano.shared(1.)\n",
    "b2 = theano.shared(1.)\n",
    "learning_rate = 0.01"
   ]
  },
  {
   "cell_type": "markdown",
   "metadata": {},
   "source": [
    "En segundo lugar se han de definir las neuronas y la relación entre las mismas."
   ]
  },
  {
   "cell_type": "code",
   "execution_count": 20,
   "metadata": {},
   "outputs": [],
   "source": [
    "a1 = 1 / (1 + T.exp(-T.dot(x, w1) - b1))\n",
    "a2 = 1 / (1 + T.exp(-T.dot(x, w2) - b1))\n",
    "x2 = T.stack([a1, a2], axis = 1)\n",
    "a3 = 1 / (1 + T.exp(-T.dot(x2, w3) - b2))"
   ]
  },
  {
   "cell_type": "markdown",
   "metadata": {},
   "source": [
    "Posteriormente se ha de definir la función para el entrenamiento de la red. Esto se hace utilizando la función de coste y el gradiente."
   ]
  },
  {
   "cell_type": "code",
   "execution_count": 21,
   "metadata": {},
   "outputs": [],
   "source": [
    "a_hat = T.vector('a_hat')\n",
    "cost = -(a_hat * T.log(a3) + (1 - a_hat) * T.log(1 - a3)).sum()\n",
    "dw1, dw2, dw3, db1, db2 = T.grad(cost, [w1, w2, w3, b1, b2])\n",
    "\n",
    "train = theano.function(\n",
    "    inputs = [x,a_hat],\n",
    "    outputs = [a3,cost],\n",
    "    updates = [\n",
    "        [w1, w1 - learning_rate * dw1],\n",
    "        [w2, w2 - learning_rate * dw2],\n",
    "        [w3, w3 - learning_rate * dw3],\n",
    "        [b1, b1 - learning_rate * db1],\n",
    "        [b2, b2 - learning_rate * db2]\n",
    "    ]\n",
    ")"
   ]
  },
  {
   "cell_type": "markdown",
   "metadata": {},
   "source": [
    "Finalmente, se puede realizar al entrenamiento de la red neuronal."
   ]
  },
  {
   "cell_type": "code",
   "execution_count": 22,
   "metadata": {},
   "outputs": [
    {
     "name": "stdout",
     "output_type": "stream",
     "text": [
      "Los resultados de la red son:\n",
      "El resultado para [0, 0] es 0.99\n",
      "El resultado para [0, 1] es 0.01\n",
      "El resultado para [1, 0] es 0.01\n",
      "El resultado para [1, 1] es 0.99\n",
      "El vector w1 es [4.17, 4.17]\n",
      "El vector w2 es [9.55, 9.55]\n",
      "El vector w3 es [12.83, 12.83]\n",
      "El valor del bias 1 es -6.25\n",
      "El valor del bias 2 es 4.64\n"
     ]
    },
    {
     "data": {
      "text/plain": [
       "[<matplotlib.lines.Line2D at 0x1c8af2bd30>]"
      ]
     },
     "execution_count": 22,
     "metadata": {},
     "output_type": "execute_result"
    },
    {
     "data": {
      "image/png": "[encoded data removed]",
      "text/plain": [
       "<matplotlib.figure.Figure at 0x1c8bbb8cc0>"
      ]
     },
     "metadata": {
      "image/png": {
       "height": 250,
       "width": 364
      }
     },
     "output_type": "display_data"
    }
   ],
   "source": [
    "inputs = [[0, 0], [0, 1], [1, 0], [1, 1]]\n",
    "outputs = [1, 0, 0, 1]\n",
    "\n",
    "# Iteramos sobre el conjunto de entrenamiento \n",
    "cost = []\n",
    "for iteration in range(50000):\n",
    "    pred, cost_iter = train(inputs, outputs)\n",
    "    cost.append(cost_iter)\n",
    "    \n",
    "# Se imprimen los resultados por pantalla\n",
    "print('Los resultados de la red son:')\n",
    "for i in range(len(inputs)):\n",
    "    print('El resultado para [%d, %d] es %.2f' % (inputs[i][0], inputs[i][1], pred[i]))\n",
    "\n",
    "# Resultados\n",
    "print\n",
    "print('El vector w1 es [%.2f, %.2f]' % (w1.get_value()[0], w1.get_value()[0]))\n",
    "print('El vector w2 es [%.2f, %.2f]' % (w2.get_value()[0], w2.get_value()[0]))\n",
    "print('El vector w3 es [%.2f, %.2f]' % (w3.get_value()[0], w3.get_value()[0]))\n",
    "print('El valor del bias 1 es %.2f' % b1.get_value())\n",
    "print('El valor del bias 2 es %.2f' % b2.get_value())\n",
    "\n",
    "# Función de esfuerzo en función del número de iteraciones\n",
    "plt.plot(cost)"
   ]
  },
  {
   "cell_type": "markdown",
   "metadata": {},
   "source": [
    "En la figura se puede observar que es hay una reducción de la función de esfuerzo después de 20000 iteraciones. Por lo que en este caso ha sido necesario aumentar el tiempo de entrenamiento respecto a ejemplo anterior.\n",
    "\n",
    "En este ejemplo, al igual que el anterior, se puede ver como tras el entrenamiento la red neuronal puede reproducir los resultados deseados."
   ]
  },
  {
   "cell_type": "code",
   "execution_count": 23,
   "metadata": {},
   "outputs": [],
   "source": [
    "def floatX(X):\n",
    "    return np.asarray(X, dtype = theano.config.floatX)\n",
    "\n",
    "def init_weights(shape):\n",
    "    return theano.shared(floatX(np.random.randn(*shape) * 0.01))"
   ]
  },
  {
   "cell_type": "code",
   "execution_count": 24,
   "metadata": {},
   "outputs": [],
   "source": [
    "# Semilla\n",
    "rng = np.random.RandomState(1)\n",
    "\n",
    "# Bias\n",
    "b1 = theano.shared(1.)\n",
    "b2 = theano.shared(1.)\n",
    "\n",
    "# Pesos iniciales aleatorios\n",
    "w1 = init_weights((2, 3))\n",
    "w2 = init_weights((3, 1))\n",
    "\n",
    "# Definición de la red\n",
    "a1 = T.nnet.sigmoid(T.dot(x, w1) + b1)\n",
    "a2 = T.nnet.sigmoid(T.dot(a1, w2) + b2)\n",
    "a3 = T.flatten(a2)\n",
    "\n",
    "# Función de esfuerzo\n",
    "cost = T.nnet.binary_crossentropy(a3, a_hat).mean()\n",
    "\n",
    "# Función de entrenamiento\n",
    "train = theano.function(inputs = [x, a_hat],\n",
    "                        outputs = [a3, cost],\n",
    "                        updates = [\n",
    "                            (w1, w1 - learning_rate * T.grad(cost, w1)),\n",
    "                            (w2, w2 - learning_rate * T.grad(cost, w2)),\n",
    "                            (b1, b1 - learning_rate * T.grad(cost, b1)),\n",
    "                            (b2, b2 - learning_rate * T.grad(cost, b2))\n",
    "                        ])"
   ]
  },
  {
   "cell_type": "code",
   "execution_count": 25,
   "metadata": {},
   "outputs": [
    {
     "name": "stdout",
     "output_type": "stream",
     "text": [
      "Los resultados de la red son:\n",
      "El resultado para [0, 0] es 0.99\n",
      "El resultado para [0, 1] es 0.01\n",
      "El resultado para [1, 0] es 0.01\n",
      "El resultado para [1, 1] es 0.99\n"
     ]
    },
    {
     "data": {
      "text/plain": [
       "[<matplotlib.lines.Line2D at 0x1c8af47f98>]"
      ]
     },
     "execution_count": 25,
     "metadata": {},
     "output_type": "execute_result"
    },
    {
     "data": {
      "image/png": "[encoded data removed]",
      "text/plain": [
       "<matplotlib.figure.Figure at 0x1c8b05eef0>"
      ]
     },
     "metadata": {
      "image/png": {
       "height": 250,
       "width": 376
      }
     },
     "output_type": "display_data"
    }
   ],
   "source": [
    "learning_rate = 0.1\n",
    "\n",
    "inputs = [[0, 0], [0, 1], [1, 0], [1, 1]]\n",
    "outputs = [1, 0, 0, 1]\n",
    "\n",
    "# Iteramos sobre el conjunto de entrenamiento \n",
    "cost = []\n",
    "for iteration in range(300000):\n",
    "    pred, cost_iter = train(inputs, outputs)\n",
    "    cost.append(cost_iter)\n",
    "    \n",
    "# Se imprimen los resultados por pantalla\n",
    "print('Los resultados de la red son:')\n",
    "for i in range(len(inputs)):\n",
    "    print('El resultado para [%d, %d] es %.2f' % (inputs[i][0], inputs[i][1], pred[i]))\n",
    "\n",
    "# Función de esfuerzo en función del número de iteraciones\n",
    "plt.plot(cost)"
   ]
  },
  {
   "cell_type": "markdown",
   "metadata": {},
   "source": [
    "### Redes neuronales"
   ]
  },
  {
   "cell_type": "code",
   "execution_count": 26,
   "metadata": {},
   "outputs": [],
   "source": [
    "import os\n",
    "\n",
    "datasets_dir = ''\n",
    "\n",
    "def one_hot(x,n):\n",
    "    if type(x) == list:\n",
    "        x = np.array(x)\n",
    "    x = x.flatten()\n",
    "    o_h = np.zeros((len(x),n))\n",
    "    o_h[np.arange(len(x)),x] = 1\n",
    "    return o_h\n",
    "\n",
    "def mnist(ntrain=60000,ntest=10000,onehot=True):\n",
    "    data_dir = os.path.join(datasets_dir,'mnist/')\n",
    "    fd = open(os.path.join(data_dir,'train-images-idx3-ubyte'))\n",
    "    loaded = np.fromfile(file=fd,dtype=np.uint8)\n",
    "    trX = loaded[16:].reshape((60000,28*28)).astype(float)\n",
    "\n",
    "    fd = open(os.path.join(data_dir,'train-labels-idx1-ubyte'))\n",
    "    loaded = np.fromfile(file=fd,dtype=np.uint8)\n",
    "    trY = loaded[8:].reshape((60000))\n",
    "\n",
    "    fd = open(os.path.join(data_dir,'t10k-images-idx3-ubyte'))\n",
    "    loaded = np.fromfile(file=fd,dtype=np.uint8)\n",
    "    teX = loaded[16:].reshape((10000,28*28)).astype(float)\n",
    "\n",
    "    fd = open(os.path.join(data_dir,'t10k-labels-idx1-ubyte'))\n",
    "    loaded = np.fromfile(file=fd,dtype=np.uint8)\n",
    "    teY = loaded[8:].reshape((10000))\n",
    "\n",
    "    trX = trX/255.\n",
    "    teX = teX/255.\n",
    "\n",
    "    trX = trX[:ntrain]\n",
    "    trY = trY[:ntrain]\n",
    "\n",
    "    teX = teX[:ntest]\n",
    "    teY = teY[:ntest]\n",
    "\n",
    "    if onehot:\n",
    "        trY = one_hot(trY, 10)\n",
    "        teY = one_hot(teY, 10)\n",
    "    else:\n",
    "        trY = np.asarray(trY)\n",
    "        teY = np.asarray(teY)\n",
    "\n",
    "    return trX,teX,trY,teY\n",
    "\n",
    "trX, teX, trY, teY = mnist()"
   ]
  },
  {
   "cell_type": "code",
   "execution_count": 27,
   "metadata": {},
   "outputs": [
    {
     "name": "stdout",
     "output_type": "stream",
     "text": [
      "[ 1.  0.  0.  0.  0.  0.  0.  0.  0.  0.]\n"
     ]
    },
    {
     "data": {
      "image/png": "[encoded data removed]",
      "text/plain": [
       "<matplotlib.figure.Figure at 0x1c1c49a320>"
      ]
     },
     "metadata": {
      "image/png": {
       "height": 250,
       "width": 253
      }
     },
     "output_type": "display_data"
    }
   ],
   "source": [
    "print(trY[1,:])\n",
    "imshow(trX[1,:].reshape(28, 28), cmap = mpl.cm.gray)\n",
    "show()"
   ]
  },
  {
   "cell_type": "code",
   "execution_count": 28,
   "metadata": {},
   "outputs": [],
   "source": [
    "num_iter = 25"
   ]
  },
  {
   "cell_type": "code",
   "execution_count": 29,
   "metadata": {},
   "outputs": [
    {
     "name": "stdout",
     "output_type": "stream",
     "text": [
      "0 0.7184 0.0027113808707702686\n",
      "1 0.6985 0.0012385211698059896\n",
      "2 0.6882 0.0007838883255393472\n",
      "3 0.6819 0.0005668123566272693\n",
      "4 0.6772 0.00044081916361153297\n",
      "5 0.6731 0.00035897771250807675\n",
      "6 0.6699 0.00030175442866098344\n",
      "7 0.6677 0.00025960789144645243\n",
      "8 0.6642 0.00022733952679028523\n",
      "9 0.6625 0.00020188189812114245\n",
      "10 0.6602 0.0001813113902869248\n",
      "11 0.659 0.00016436220952186048\n",
      "12 0.659 0.00015016827534227394\n",
      "13 0.6581 0.00013811753963719186\n",
      "14 0.6564 0.00012776554953914743\n",
      "15 0.6552 0.00011878197306478028\n",
      "16 0.6543 0.0001109163218291928\n",
      "17 0.6537 0.00010397529770792948\n",
      "18 0.6527 9.780741845702677e-05\n",
      "19 0.6522 9.229233707665133e-05\n",
      "20 0.6512 8.73332670486518e-05\n",
      "21 0.65 8.285151038735447e-05\n",
      "22 0.6493 7.878243884566545e-05\n",
      "23 0.6488 7.507249798187683e-05\n",
      "24 0.6481 7.167694332048722e-05\n"
     ]
    }
   ],
   "source": [
    "trX, teX, trY, teY = mnist()\n",
    "\n",
    "X = T.fmatrix()\n",
    "Y = T.fmatrix()\n",
    "\n",
    "w = init_weights((784, 10))\n",
    "\n",
    "py_x = T.nnet.sigmoid(T.dot(X, w))\n",
    "\n",
    "y_pred = T.argmax(py_x, axis=1)\n",
    "\n",
    "cost = T.mean(T.nnet.categorical_crossentropy(py_x, Y))\n",
    "gradient = T.grad(cost, w)\n",
    "update = [[w, w - gradient * 0.1]]\n",
    "\n",
    "train = theano.function(inputs = [X, Y],\n",
    "                        outputs = cost,\n",
    "                        updates = update,\n",
    "                        allow_input_downcast=True)\n",
    "predict = theano.function(inputs = [X],\n",
    "                          outputs = y_pred,\n",
    "                          allow_input_downcast = True)\n",
    "\n",
    "for i in range(num_iter):\n",
    "    for start, end in zip(range(0, len(trX), 128), range(128, len(trX), 128)):\n",
    "        cost = train(trX[start:end], trY[start:end])\n",
    "    print(i, np.mean(np.argmax(teY, axis=1) == predict(teX)), cost)"
   ]
  },
  {
   "cell_type": "code",
   "execution_count": 30,
   "metadata": {},
   "outputs": [
    {
     "name": "stdout",
     "output_type": "stream",
     "text": [
      "0 0.8968 0.14184835025904016\n",
      "1 0.9068 0.11189041093396712\n",
      "2 0.9111 0.09973462413226064\n",
      "3 0.9134 0.09274567145779154\n",
      "4 0.9154 0.08808961807390324\n",
      "5 0.9167 0.08472243351313298\n",
      "6 0.9176 0.08215588519868591\n",
      "7 0.9181 0.08012640683743015\n",
      "8 0.9193 0.078477281761429\n",
      "9 0.9195 0.07710862631320858\n",
      "10 0.9201 0.07595336793412116\n",
      "11 0.9204 0.07496459733341321\n",
      "12 0.9204 0.0741084183281691\n",
      "13 0.9207 0.07335967093998254\n",
      "14 0.9204 0.0726992535768074\n",
      "15 0.9204 0.07211238212486673\n",
      "16 0.9211 0.07158742187340277\n",
      "17 0.9211 0.07111508242108017\n",
      "18 0.9212 0.07068784968753837\n",
      "19 0.9214 0.0702995769160153\n",
      "20 0.922 0.06994518475575577\n",
      "21 0.922 0.06962043771337514\n",
      "22 0.9223 0.06932177505139175\n",
      "23 0.9224 0.06904618114801483\n",
      "24 0.9224 0.068791084888923\n"
     ]
    }
   ],
   "source": [
    "w = init_weights((784, 10))\n",
    "\n",
    "py_x = T.nnet.softmax(T.dot(X, w))\n",
    "\n",
    "y_pred = T.argmax(py_x, axis=1)\n",
    "\n",
    "cost = T.mean(T.nnet.categorical_crossentropy(py_x, Y))\n",
    "gradient = T.grad(cost, w)\n",
    "update = [[w, w - gradient * 0.1]]\n",
    "\n",
    "train = theano.function(inputs = [X, Y],\n",
    "                        outputs = cost,\n",
    "                        updates = update,\n",
    "                        allow_input_downcast = True)\n",
    "predict = theano.function(inputs = [X],\n",
    "                          outputs = y_pred,\n",
    "                          allow_input_downcast = True)\n",
    "\n",
    "for i in range(num_iter):\n",
    "    for start, end in zip(range(0, len(trX), 128), range(128, len(trX), 128)):\n",
    "        cost = train(trX[start:end], trY[start:end])\n",
    "    print(i, np.mean(np.argmax(teY, axis=1) == predict(teX)), cost)"
   ]
  },
  {
   "cell_type": "code",
   "execution_count": 31,
   "metadata": {},
   "outputs": [
    {
     "name": "stdout",
     "output_type": "stream",
     "text": [
      "0 0.8209 0.3660942278791161\n",
      "1 0.8762 0.15094803977133905\n",
      "2 0.8907 0.11341399596717033\n",
      "3 0.8975 0.09824648689637272\n",
      "4 0.9046 0.08927314796175757\n",
      "5 0.9077 0.08288590920154947\n",
      "6 0.9094 0.07793396656359496\n",
      "7 0.9121 0.0739426629727847\n",
      "8 0.9135 0.07065923822555921\n",
      "9 0.9146 0.06791980716333451\n",
      "10 0.9154 0.0656058292542961\n",
      "11 0.9167 0.06362728130537049\n",
      "12 0.9176 0.06191441020089242\n",
      "13 0.9189 0.0604126113859802\n",
      "14 0.9207 0.059078780881881364\n",
      "15 0.922 0.05787860941040693\n",
      "16 0.9232 0.056784587154620876\n",
      "17 0.9241 0.05577456309747539\n",
      "18 0.9252 0.05483072231926931\n",
      "19 0.9264 0.05393885568893866\n",
      "20 0.9278 0.05308781063303473\n",
      "21 0.9289 0.052269023976727176\n",
      "22 0.9303 0.0514760509784847\n",
      "23 0.9314 0.05070403563224464\n",
      "24 0.9331 0.04994912568751235\n"
     ]
    }
   ],
   "source": [
    "w_h = init_weights((784, 625))\n",
    "w_o = init_weights((625, 10))\n",
    "\n",
    "h = T.nnet.sigmoid(T.dot(X, w_h))\n",
    "py_x = T.nnet.softmax(T.dot(h, w_o))\n",
    "y_x = T.argmax(py_x, axis = 1)\n",
    "\n",
    "cost = T.mean(T.nnet.categorical_crossentropy(py_x, Y))\n",
    "updates = [[w_h, w_h - T.grad(cost, w_h) * 0.1],\n",
    "          [w_o, w_o - T.grad(cost, w_o) * 0.1] ]\n",
    "\n",
    "train = theano.function(inputs = [X, Y], \n",
    "                        outputs = cost,\n",
    "                        updates = updates,\n",
    "                        allow_input_downcast = True)\n",
    "predict = theano.function(inputs = [X],\n",
    "                          outputs = y_x,\n",
    "                          allow_input_downcast = True)\n",
    "\n",
    "for i in range(num_iter):\n",
    "    for start, end in zip(range(0, len(trX), 128), range(128, len(trX), 128)):\n",
    "        cost = train(trX[start:end], trY[start:end])\n",
    "    print(i, np.mean(np.argmax(teY, axis=1) == predict(teX)), cost)"
   ]
  },
  {
   "cell_type": "markdown",
   "metadata": {},
   "source": [
    "## Dropout"
   ]
  },
  {
   "cell_type": "code",
   "execution_count": 32,
   "metadata": {},
   "outputs": [],
   "source": [
    "from theano.sandbox.rng_mrg import MRG_RandomStreams\n",
    "\n",
    "srng = MRG_RandomStreams()\n",
    "\n",
    "def dropout(X, p):\n",
    "    if p > 0:\n",
    "        X *= srng.binomial(X.shape, p = 1 - p, dtype = theano.config.floatX)\n",
    "        X /= 1 - p\n",
    "    return X\n",
    "\n",
    "def model(X, w_h, w_o, p_drop):\n",
    "    X = dropout(X, p_drop)\n",
    "    h = T.nnet.sigmoid(T.dot(X, w_h))\n",
    "    \n",
    "    h = dropout(h, p_drop)\n",
    "    py_x = T.nnet.softmax(T.dot(h, w_o))\n",
    "\n",
    "    return h, py_x"
   ]
  },
  {
   "cell_type": "code",
   "execution_count": 33,
   "metadata": {},
   "outputs": [
    {
     "name": "stdout",
     "output_type": "stream",
     "text": [
      "0 0.8211 0.38745985148531814\n",
      "1 0.8756 0.17285337541162574\n",
      "2 0.8905 0.11504819858343733\n",
      "3 0.9002 0.11104068146093327\n",
      "4 0.9034 0.09149403110392891\n",
      "5 0.9081 0.09789147012238728\n",
      "6 0.9108 0.07902562127593916\n",
      "7 0.9119 0.07835407878519338\n",
      "8 0.9143 0.08510551108829707\n",
      "9 0.9155 0.07540898685457945\n",
      "10 0.916 0.08661333733771943\n",
      "11 0.9174 0.08127063673288878\n",
      "12 0.919 0.06612660718563704\n",
      "13 0.9215 0.06726362332035718\n",
      "14 0.9231 0.0611035174209245\n",
      "15 0.9251 0.06601688354989929\n",
      "16 0.9256 0.07330387338893764\n",
      "17 0.9266 0.0582438692948961\n",
      "18 0.9287 0.06645366442435799\n",
      "19 0.9293 0.059271009347903705\n",
      "20 0.9315 0.057454947588437486\n",
      "21 0.9334 0.06356612619325923\n",
      "22 0.9339 0.05031238959195784\n",
      "23 0.9351 0.06689939732428261\n",
      "24 0.9367 0.04737958979132951\n"
     ]
    }
   ],
   "source": [
    "w_h = init_weights((784, 625))\n",
    "w_o = init_weights((625, 10))\n",
    "\n",
    "# Modelo de entrenamiento\n",
    "h, py_x = model(X, w_h, w_o, 0.05)\n",
    "y_x = T.argmax(py_x, axis = 1)\n",
    "\n",
    "cost = T.mean(T.nnet.categorical_crossentropy(py_x, Y))\n",
    "updates = [[w_h, w_h - T.grad(cost, w_h) * 0.1],\n",
    "          [w_o, w_o - T.grad(cost, w_o) * 0.1] ]\n",
    "\n",
    "train = theano.function(inputs = [X, Y], \n",
    "                        outputs = cost,\n",
    "                        updates = updates,\n",
    "                        allow_input_downcast = True)\n",
    "\n",
    "# Modelo para evaluación, con p == 0\n",
    "h_predict, py_predict = model(X, w_h, w_o, 0.0)\n",
    "y_predict = T.argmax(py_predict, axis = 1)\n",
    "\n",
    "predict = theano.function(inputs = [X],\n",
    "                          outputs = y_predict,\n",
    "                          allow_input_downcast = True)\n",
    "\n",
    "# Evaluación del modelo\n",
    "for i in range(num_iter):\n",
    "    for start, end in zip(range(0, len(trX), 128), range(128, len(trX), 128)):\n",
    "        cost = train(trX[start:end], trY[start:end])\n",
    "    print(i, np.mean(np.argmax(teY, axis=1) == predict(teX)), cost)"
   ]
  }
 ],
 "metadata": {
  "kernelspec": {
   "display_name": "Python 3",
   "language": "python",
   "name": "python3"
  },
  "language_info": {
   "codemirror_mode": {
    "name": "ipython",
    "version": 3
   },
   "file_extension": ".py",
   "mimetype": "text/x-python",
   "name": "python",
   "nbconvert_exporter": "python",
   "pygments_lexer": "ipython3",
   "version": "3.7.1"
  }
 },
 "nbformat": 4,
 "nbformat_minor": 2
}
