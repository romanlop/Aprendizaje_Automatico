{
 "cells": [
  {
   "cell_type": "markdown",
   "metadata": {},
   "source": [
    "# Unidad 6: Caso práctico\n",
    "En el archivo “groceries.csv” se recogen los datos de las transacciones recogidas durante un mes en una tienda de comestibles (los datos han sido extraídos del paquete de R arules). En cada una de las filas de este archivo se encuentra una lista de artículos correspondiente a un ticket de caja.\n",
    "\n",
    "A partir de estos datos obtener la lista de artículos que tiene un soporte mínimo de 0,15 utilizando tanto el algoritmo apriori como FP-Growth. Posteriormente obtener las reglas de asociación que se pueden deducir de este conjunto de datos con un soporte mínimo de 0,05 y confianza de 0,25."
   ]
  },
  {
   "cell_type": "code",
   "execution_count": 1,
   "metadata": {},
   "outputs": [],
   "source": [
    "import csv\n",
    "\n",
    "groceries =  []\n",
    "groceries_file = csv.reader(open(\"groceries.csv\", \"r\"))\n",
    "\n",
    "for row in groceries_file:\n",
    "    groceries.append(row)"
   ]
  },
  {
   "cell_type": "markdown",
   "metadata": {},
   "source": [
    "Se obtienen el listado de productos con un soporte mínimo se 0,15 mediante arules se obtiene"
   ]
  },
  {
   "cell_type": "code",
   "execution_count": 2,
   "metadata": {},
   "outputs": [
    {
     "name": "stdout",
     "output_type": "stream",
     "text": [
      "{soda}:  sup = 0.174\n",
      "{rolls/buns}:  sup = 0.184\n",
      "{other vegetables}:  sup = 0.193\n",
      "{whole milk}:  sup = 0.256\n"
     ]
    }
   ],
   "source": [
    "import apriori\n",
    "\n",
    "F = apriori.apriori(groceries, min_support = 0.15, verbose = True)"
   ]
  },
  {
   "cell_type": "markdown",
   "metadata": {},
   "source": [
    "En el caso de FP-Growth se ha de importar la librería `pyfpgrowth`. En este caso, como en la función `find_frequent_patterns` es necesario indicar el número de veces que debe de aparecer el conjunto de datos es necesario calcular prevénteme cuál es este valor. "
   ]
  },
  {
   "cell_type": "code",
   "execution_count": 3,
   "metadata": {},
   "outputs": [
    {
     "data": {
      "text/plain": [
       "1476"
      ]
     },
     "execution_count": 3,
     "metadata": {},
     "output_type": "execute_result"
    }
   ],
   "source": [
    "import math\n",
    "\n",
    "num_tickets = len(groceries)\n",
    "support_threshold = math.ceil(num_tickets * 0.15)\n",
    "support_threshold"
   ]
  },
  {
   "cell_type": "code",
   "execution_count": 4,
   "metadata": {},
   "outputs": [
    {
     "data": {
      "text/plain": [
       "{('other vegetables',): 1903,\n",
       " ('rolls/buns',): 1809,\n",
       " ('soda',): 1715,\n",
       " ('whole milk',): 2513}"
      ]
     },
     "execution_count": 4,
     "metadata": {},
     "output_type": "execute_result"
    }
   ],
   "source": [
    "import pyfpgrowth\n",
    "\n",
    "pyfpgrowth.find_frequent_patterns(groceries, support_threshold)"
   ]
  },
  {
   "cell_type": "markdown",
   "metadata": {},
   "source": [
    "Siendo posible obtener ahora las reglas de asociación"
   ]
  },
  {
   "cell_type": "code",
   "execution_count": 5,
   "metadata": {},
   "outputs": [
    {
     "name": "stdout",
     "output_type": "stream",
     "text": [
      "{rolls/buns} ---> {whole milk}:  conf = 0.308, sup = 0.057\n",
      "{yogurt} ---> {whole milk}:  conf = 0.402, sup = 0.056\n",
      "{whole milk} ---> {other vegetables}:  conf = 0.293, sup = 0.075\n",
      "{other vegetables} ---> {whole milk}:  conf = 0.387, sup = 0.075\n"
     ]
    }
   ],
   "source": [
    "F, soporte = apriori.apriori(groceries, min_support = 0.05, verbose = False)\n",
    "H = apriori.generate_rules(F, soporte, min_confidence = 0.25, verbose = True)"
   ]
  },
  {
   "cell_type": "code",
   "execution_count": 6,
   "metadata": {},
   "outputs": [
    {
     "data": {
      "text/plain": [
       "{('other vegetables',): (('whole milk',), 0.38675775091960063),\n",
       " ('rolls/buns',): (('whole milk',), 0.30790491984521834),\n",
       " ('whole milk',): (('other vegetables',), 0.29287703939514526),\n",
       " ('yogurt',): (('whole milk',), 0.40160349854227406)}"
      ]
     },
     "execution_count": 6,
     "metadata": {},
     "output_type": "execute_result"
    }
   ],
   "source": [
    "support_threshold = math.ceil(num_tickets * 0.05)\n",
    "patterns = pyfpgrowth.find_frequent_patterns(groceries, support_threshold)\n",
    "rules = pyfpgrowth.generate_association_rules(patterns, 0.05)\n",
    "rules"
   ]
  }
 ],
 "metadata": {
  "kernelspec": {
   "display_name": "Python 3",
   "language": "python",
   "name": "python3"
  },
  "language_info": {
   "codemirror_mode": {
    "name": "ipython",
    "version": 3
   },
   "file_extension": ".py",
   "mimetype": "text/x-python",
   "name": "python",
   "nbconvert_exporter": "python",
   "pygments_lexer": "ipython3",
   "version": "3.6.3"
  }
 },
 "nbformat": 4,
 "nbformat_minor": 2
}
